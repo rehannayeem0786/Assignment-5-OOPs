{
 "cells": [
  {
   "cell_type": "markdown",
   "id": "01e2e546",
   "metadata": {},
   "source": [
    "# Square Numbers and Return Their Sum"
   ]
  },
  {
   "cell_type": "code",
   "execution_count": 17,
   "id": "6a87a59c",
   "metadata": {},
   "outputs": [
    {
     "name": "stdout",
     "output_type": "stream",
     "text": [
      "35\n"
     ]
    }
   ],
   "source": [
    "class Point:\n",
    "\n",
    "    def __init__(self, x, y, z):\n",
    "        self.x = x\n",
    "        self.y = y\n",
    "        self.z = z\n",
    "\n",
    "    def sqSum(self):\n",
    "        return self.x**2 + self.y**2 + self.z**2\n",
    "    \n",
    "P = Point(1, 3, 5)\n",
    "result=P.sqSum()\n",
    "print(result)"
   ]
  },
  {
   "cell_type": "markdown",
   "id": "f6d4c4d0",
   "metadata": {},
   "source": [
    "# Implement a Calculator Class"
   ]
  },
  {
   "cell_type": "code",
   "execution_count": 31,
   "id": "7502ab7c",
   "metadata": {},
   "outputs": [
    {
     "name": "stdout",
     "output_type": "stream",
     "text": [
      "104\n",
      "84\n",
      "940\n",
      "9.4\n"
     ]
    }
   ],
   "source": [
    "class Calculator:\n",
    "\n",
    "    def __init__(self,num1,num2):\n",
    "        self.num1=num1\n",
    "        self.num2=num2\n",
    "    def add(self):\n",
    "        return self.num1 + self.num2\n",
    "    def subtract(self):\n",
    "        return self.num2 - self.num1\n",
    "    def multiply(self):\n",
    "        return self.num1 * self.num2\n",
    "    def divide(self):\n",
    "        return self.num2 / self.num1\n",
    "    \n",
    "obj = Calculator(10, 94)\n",
    "print(obj.add())\n",
    "print(obj.subtract())\n",
    "print(obj.multiply())\n",
    "print(obj.divide())"
   ]
  },
  {
   "cell_type": "markdown",
   "id": "35927c41",
   "metadata": {},
   "source": [
    "# Implement the Complete Student Class"
   ]
  },
  {
   "cell_type": "code",
   "execution_count": 66,
   "id": "2b559282",
   "metadata": {},
   "outputs": [
    {
     "name": "stdout",
     "output_type": "stream",
     "text": [
      "Name: Rehan Nayeem\n",
      "RollNumber: 786\n"
     ]
    }
   ],
   "source": [
    "class Student:\n",
    "    \n",
    "    def __init__(self):\n",
    "        self.__name = None\n",
    "        self.__rollnumber = None\n",
    "    def setName(self,name):\n",
    "        self.__name=name\n",
    "    def getName(self):\n",
    "        return self.__name\n",
    "    def setRollNumber(self,rollnumber):\n",
    "        self.__rollnumber=rollnumber\n",
    "    def getRollNumber(self):\n",
    "        return self.__rollnumber\n",
    "    \n",
    "student=Student()\n",
    "student.setName(\"Rehan Nayeem\")\n",
    "student.setRollNumber(786)\n",
    "name=student.getName()\n",
    "rollNumber=student.getRollNumber()\n",
    "print(\"Name:\",name)\n",
    "print(\"RollNumber:\",rollNumber)"
   ]
  },
  {
   "cell_type": "markdown",
   "id": "f1c369a7",
   "metadata": {
    "scrolled": true
   },
   "source": [
    "# Implement a Banking Account"
   ]
  },
  {
   "cell_type": "code",
   "execution_count": 2,
   "id": "63aae940",
   "metadata": {},
   "outputs": [
    {
     "name": "stdout",
     "output_type": "stream",
     "text": [
      "Ashish\n",
      "5000\n",
      "5\n"
     ]
    }
   ],
   "source": [
    "class Account:\n",
    "    def __init__(self, title, balance):\n",
    "        self.title = title\n",
    "        self.balance = balance\n",
    "\n",
    "class SavingsAccount(Account):\n",
    "    def __init__(self, title, balance, interestRate):\n",
    "        super().__init__(title, balance)\n",
    "        self.interestRate = interestRate\n",
    "\n",
    "account = SavingsAccount(\"Ashish\",5000,5)\n",
    "print(account.title)  \n",
    "print(account.balance)  \n",
    "print(account.interestRate)  "
   ]
  },
  {
   "cell_type": "markdown",
   "id": "9ce96ef7",
   "metadata": {},
   "source": [
    "# Handling a Bank Account"
   ]
  },
  {
   "cell_type": "code",
   "execution_count": 15,
   "id": "1e189302",
   "metadata": {},
   "outputs": [
    {
     "name": "stdout",
     "output_type": "stream",
     "text": [
      "2500\n",
      "1500\n",
      "100.0\n"
     ]
    }
   ],
   "source": [
    "class Account:\n",
    "    def __init__(self, title=None, balance=0):\n",
    "        self.title = title\n",
    "        self.balance = balance\n",
    "    def withdrawal(self, amount):\n",
    "        self.balance=self.balance-amount\n",
    "    def deposit(self, amount):\n",
    "        self.balance=self.balance+amount\n",
    "    def getBalance(self):\n",
    "        return self.balance\n",
    "class SavingsAccount(Account):\n",
    "    def __init__(self, title=None, balance=0, interestRate=0):\n",
    "            super().__init__(title, balance)\n",
    "            self.interestRate = interestRate\n",
    "    def interestAmount(self):\n",
    "        return (self.balance * self.interestRate)/100\n",
    "\n",
    "demo = SavingsAccount(\"Ashish\", 2000, 5)  \n",
    "demo.deposit(500)\n",
    "print(demo.getBalance())\n",
    "\n",
    "demo = SavingsAccount(\"Ashish\", 2000, 5)\n",
    "demo.withdrawal(500) \n",
    "print(demo.getBalance())\n",
    "\n",
    "demo = SavingsAccount(\"Ashish\", 2000, 5)\n",
    "print(demo.interestAmount())"
   ]
  },
  {
   "cell_type": "code",
   "execution_count": null,
   "id": "1e808733",
   "metadata": {},
   "outputs": [],
   "source": []
  }
 ],
 "metadata": {
  "kernelspec": {
   "display_name": "Python 3 (ipykernel)",
   "language": "python",
   "name": "python3"
  },
  "language_info": {
   "codemirror_mode": {
    "name": "ipython",
    "version": 3
   },
   "file_extension": ".py",
   "mimetype": "text/x-python",
   "name": "python",
   "nbconvert_exporter": "python",
   "pygments_lexer": "ipython3",
   "version": "3.10.9"
  }
 },
 "nbformat": 4,
 "nbformat_minor": 5
}
